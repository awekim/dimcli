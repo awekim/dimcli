{
 "cells": [
  {
   "attachments": {},
   "cell_type": "markdown",
   "metadata": {},
   "source": [
    "# Overall description about the Dimensions Structure"
   ]
  },
  {
   "attachments": {},
   "cell_type": "markdown",
   "metadata": {},
   "source": [
    "#### Dimensions Publications Links\n",
    "![Alt text](https://docs.dimensions.ai/dsl/_images/data-model-publications.png \"a title\")"
   ]
  },
  {
   "attachments": {},
   "cell_type": "markdown",
   "metadata": {},
   "source": [
    "#### Publication Fieldset\n",
    "#### https://docs.dimensions.ai/dsl/datasource-publications.html\n",
    "\n",
    "extras: altmetric date doi funders open_access pmcid pmid relative_citation_ratio research_org_cities research_org_countries research_org_country_names research_org_state_codes research_org_state_names research_orgs researchers times_cited\n",
    "\n",
    "categories: category_bra category_for category_hra category_hrcs_hc category_hrcs_rac category_icrp_cso category_icrp_ct category_rcdc category_sdg category_uoa\n",
    "\n",
    "book: book_doi book_series_title book_title\n",
    "\n",
    "basics: authors id issue journal pages title type volume year"
   ]
  },
  {
   "attachments": {},
   "cell_type": "markdown",
   "metadata": {},
   "source": [
    "#### Dimensions Patent Links\n",
    "![Alt text](https://docs.dimensions.ai/dsl/_images/data-model-patents.png \"a title\")"
   ]
  },
  {
   "attachments": {},
   "cell_type": "markdown",
   "metadata": {},
   "source": [
    "#### Patent Fieldset\n",
    "#### https://docs.dimensions.ai/dsl/datasource-patents.html\n",
    "\n",
    "extras: cpc date expiration_date ipcr legal_status priority_date\n",
    "\n",
    "categories: category_bra category_for category_hra category_hrcs_hc category_hrcs_rac category_icrp_cso category_icrp_ct category_rcdc\n",
    "\n",
    "basics: assignee_names assignees filing_status granted_year id inventor_names publication_date times_cited title year"
   ]
  },
  {
   "cell_type": "markdown",
   "metadata": {},
   "source": []
  },
  {
   "attachments": {},
   "cell_type": "markdown",
   "metadata": {},
   "source": [
    "#### Overall Dimensions Schema\n",
    "![Alt text](https://docs.dimensions.ai/dsl/_images/data-model-overview-1.png \"a title\")"
   ]
  },
  {
   "attachments": {},
   "cell_type": "markdown",
   "metadata": {},
   "source": [
    "#### Overall Dimensions Schema\n",
    "![Alt text](https://docs.dimensions.ai/dsl/_images/data-model-overview-2.png \"a title\")"
   ]
  }
 ],
 "metadata": {
  "kernelspec": {
   "display_name": "Python 3",
   "language": "python",
   "name": "python3"
  },
  "language_info": {
   "name": "python",
   "version": "3.10.6 (tags/v3.10.6:9c7b4bd, Aug  1 2022, 21:53:49) [MSC v.1932 64 bit (AMD64)]"
  },
  "orig_nbformat": 4,
  "vscode": {
   "interpreter": {
    "hash": "ffaca783d44b18aed48eb546598a83562538f8c4bcfdc691ff62947e7cf2a099"
   }
  }
 },
 "nbformat": 4,
 "nbformat_minor": 2
}
