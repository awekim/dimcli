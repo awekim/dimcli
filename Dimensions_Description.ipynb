{
 "cells": [
  {
   "attachments": {},
   "cell_type": "markdown",
   "metadata": {},
   "source": [
    "# Overall description about the Dimensions Structure"
   ]
  },
  {
   "attachments": {},
   "cell_type": "markdown",
   "metadata": {},
   "source": [
    "#### Dimensions Publications Links\n",
    "![Alt text](https://docs.dimensions.ai/dsl/_images/data-model-publications.png \"a title\")"
   ]
  },
  {
   "attachments": {},
   "cell_type": "markdown",
   "metadata": {},
   "source": [
    "#### Publication Fieldset\n",
    "#### https://docs.dimensions.ai/dsl/datasource-publications.html\n",
    "\n",
    "extras: altmetric date doi funders open_access pmcid pmid relative_citation_ratio research_org_cities research_org_countries research_org_country_names research_org_state_codes research_org_state_names research_orgs researchers times_cited\n",
    "\n",
    "categories: category_bra category_for category_hra category_hrcs_hc category_hrcs_rac category_icrp_cso category_icrp_ct category_rcdc category_sdg category_uoa\n",
    "\n",
    "book: book_doi book_series_title book_title\n",
    "\n",
    "basics: authors id issue journal pages title type volume year"
   ]
  },
  {
   "attachments": {},
   "cell_type": "markdown",
   "metadata": {},
   "source": [
    "#### Dimensions Patent Links\n",
    "![Alt text](https://docs.dimensions.ai/dsl/_images/data-model-patents.png \"a title\")"
   ]
  },
  {
   "attachments": {},
   "cell_type": "markdown",
   "metadata": {},
   "source": [
    "#### Patent Fieldset\n",
    "#### https://docs.dimensions.ai/dsl/datasource-patents.html\n",
    "\n",
    "extras: cpc date expiration_date ipcr legal_status priority_date\n",
    "\n",
    "categories: category_bra category_for category_hra category_hrcs_hc category_hrcs_rac category_icrp_cso category_icrp_ct category_rcdc\n",
    "\n",
    "basics: assignee_names assignees filing_status granted_year id inventor_names publication_date times_cited title year"
   ]
  },
  {
   "attachments": {},
   "cell_type": "markdown",
   "metadata": {},
   "source": [
    "#### Overall Dimensions Schema\n",
    "![Alt text](https://docs.dimensions.ai/dsl/_images/data-model-overview-1.png \"a title\")"
   ]
  },
  {
   "attachments": {},
   "cell_type": "markdown",
   "metadata": {},
   "source": [
    "#### Overall Dimensions Schema\n",
    "![Alt text](https://docs.dimensions.ai/dsl/_images/data-model-overview-2.png \"a title\")"
   ]
  }
 ],
 "metadata": {
  "kernelspec": {
   "display_name": "Python 3",
   "language": "python",
   "name": "python3"
  },
  "language_info": {
   "name": "python",
   "version": "3.11.0 (main, Oct 24 2022, 18:26:48) [MSC v.1933 64 bit (AMD64)]"
  },
  "orig_nbformat": 4,
  "vscode": {
   "interpreter": {
    "hash": "de47f5c92c0ee6f12a59a5613ac5feff6aab19ddff207ba0b3964cced08c4ccc"
   }
  }
 },
 "nbformat": 4,
 "nbformat_minor": 2
}
