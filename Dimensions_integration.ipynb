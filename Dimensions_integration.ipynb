{
 "cells": [
  {
   "cell_type": "code",
   "execution_count": null,
   "metadata": {},
   "outputs": [],
   "source": [
    "#######################################################################\n",
    "##  Made by: Dr. Keungoui Kim\n",
    "##  Title: Merge all files from Dimensions\n",
    "##  goal : \n",
    "##  Data set:  \n",
    "##  Time Span:\n",
    "##  Variables\n",
    "##      Input: \n",
    "##      Output: \n",
    "##  Time-stamp: #  \"Sun Jan 26 01:47:34 2020\":  edited by awe kim ; code\n",
    "##  Notice :\n",
    "#######################################################################"
   ]
  },
  {
   "cell_type": "code",
   "execution_count": 1,
   "metadata": {},
   "outputs": [],
   "source": [
    "### Library\n",
    "import pandas as pd\n",
    "import numpy as np\n",
    "import math\n",
    "\n",
    "### Directory Setting for Export\n",
    "#dir = \"E:/Google Drive (awekim@handong.edu)/[Research]/00_Dimensions/Dimension_files/\" # Home\n",
    "dir = \"D:/Google Drive(awekim@handong.edu)/[Research]/00_Dimensions/Dimension_files/\" # HGU\n",
    "\n",
    "years = ['2011','2012','2013','2014','2015','2016','2017','2018','2019','2020','2021','2022'] #, '2000','2001','2002','2003','2004','2005','2006','2007','2008','2009', '2010'\n",
    "offices = ['EP'] # 'WO', 'US', 'EP'"
   ]
  },
  {
   "cell_type": "code",
   "execution_count": null,
   "metadata": {},
   "outputs": [],
   "source": [
    "# Integrate file list\n",
    "\n",
    "pat_funders_df = pd.read_csv(dir+\"patent/pat_funders_df_\"+year+\"_\"+office+\".csv\")\n",
    "pub_category_df = pd.read_csv(dir+\"publication/pub_category_df_\"+year+\"_\"+office+\"_\"+str(i)+\".csv\")\n",
    "pub_authors_df = pd.read_csv(dir+\"publication/pub_authors_df_\"+year+\"_\"+office+\"_\"+str(i)+\".csv\")\n",
    "pub_affiliations_df = pd.read_csv(dir+\"publication/pub_affiliations_df_\"+year+\"_\"+office+\"_\"+str(i)+\".csv\")\n",
    "pub_df = pd.read_csv(dir+\"publication/pub_data_df_\"+year+\"_\"+office+\"_\"+str(i)+\".csv\")\n",
    "\n",
    "pub_grant_all = pd.read_csv(dir+\"publication/pub_grant_list_\"+office+\".csv\")\n",
    "pub_grant_df = pd.read_csv(dir+\"publication/pub_grant_df_\"+office+\".csv\")\n",
    "pub_funders_df = pd.read_csv(dir+\"publication/pub_funders_df_\"+office+\".csv\")"
   ]
  },
  {
   "cell_type": "code",
   "execution_count": null,
   "metadata": {},
   "outputs": [],
   "source": [
    "### Load pat_data_df data set to merge it to pat_data_all\n",
    "import re\n",
    "\n",
    "for office in offices:\n",
    "    # Filter list of files \"pat_data_df\"\n",
    "    file_list = os.listdir(dir+'patent/')\n",
    "    r = re.compile(\".*pat_data_df\"+\".*\"+office+\".*csv\")\n",
    "    filtered_list = list(filter(r.match, file_list))\n",
    "    filtered_list\n",
    "\n",
    "    pub_data_all = pd.DataFrame()\n",
    "    for i in range(len(filtered_list)):\n",
    "        temp_df = pd.read_csv(dir+'patent/'+filtered_list[i])\n",
    "        temp_df.dropna(inplace=True)\n",
    "        pub_data_all = pd.concat([pub_data_all, temp_df], axis=0)\n",
    "\n",
    "    # pub_data_all.rename(columns={'id':'pub_id'}, inplace=True)\n",
    "    pub_data_all.to_csv(dir+\"patent/pat_data_all_\"+office+\".csv\", index=False)\n"
   ]
  },
  {
   "cell_type": "code",
   "execution_count": 14,
   "metadata": {},
   "outputs": [
    {
     "name": "stdout",
     "output_type": "stream",
     "text": [
      "(141651, 11)\n",
      "113360\n"
     ]
    }
   ],
   "source": [
    "print(pub_data_all.shape)\n",
    "print(pub_data_all.id.nunique())"
   ]
  },
  {
   "cell_type": "code",
   "execution_count": null,
   "metadata": {},
   "outputs": [],
   "source": [
    "pub_category_all = pd.DataFrame()\n",
    "for i in range(pub_data_all.shape[0]):\n",
    "    temp_cat = pub_data_all.iloc[[i]]\n",
    "\n",
    "    for j in range(len(temp_cat)):\n",
    "        temp_data = pd.DataFrame.from_records(temp_cat[0][j])\n",
    "        temp_data['id'] = pub_data_all['pub_id'][i]\n",
    "        pub_category_all = pd.concat([pub_category_all, temp_data], axis=0)\n",
    "\n"
   ]
  },
  {
   "cell_type": "code",
   "execution_count": 63,
   "metadata": {},
   "outputs": [
    {
     "data": {
      "text/html": [
       "<div>\n",
       "<style scoped>\n",
       "    .dataframe tbody tr th:only-of-type {\n",
       "        vertical-align: middle;\n",
       "    }\n",
       "\n",
       "    .dataframe tbody tr th {\n",
       "        vertical-align: top;\n",
       "    }\n",
       "\n",
       "    .dataframe thead th {\n",
       "        text-align: right;\n",
       "    }\n",
       "</style>\n",
       "<table border=\"1\" class=\"dataframe\">\n",
       "  <thead>\n",
       "    <tr style=\"text-align: right;\">\n",
       "      <th></th>\n",
       "      <th>category_for</th>\n",
       "    </tr>\n",
       "  </thead>\n",
       "  <tbody>\n",
       "    <tr>\n",
       "      <th>2</th>\n",
       "      <td>[{'id': '80034', 'name': '3101 Biochemistry an...</td>\n",
       "    </tr>\n",
       "  </tbody>\n",
       "</table>\n",
       "</div>"
      ],
      "text/plain": [
       "                                        category_for\n",
       "2  [{'id': '80034', 'name': '3101 Biochemistry an..."
      ]
     },
     "execution_count": 63,
     "metadata": {},
     "output_type": "execute_result"
    }
   ],
   "source": [
    "i=0\n",
    "temp_cat = pub_data_all.iloc[[i]]\n",
    "pd.DataFrame(temp_cat.category_for)"
   ]
  },
  {
   "cell_type": "code",
   "execution_count": 90,
   "metadata": {},
   "outputs": [
    {
     "data": {
      "text/plain": [
       "[{'id': '80034', 'name': '3101 Biochemistry and Cell Biology'}, {'id': '80002', 'name': '31 Biological Sciences'}]    1\n",
       "Name: category_for, dtype: int64"
      ]
     },
     "execution_count": 90,
     "metadata": {},
     "output_type": "execute_result"
    }
   ],
   "source": [
    "temp_cat['category_for'].value_counts()"
   ]
  },
  {
   "cell_type": "code",
   "execution_count": 95,
   "metadata": {},
   "outputs": [
    {
     "data": {
      "text/plain": [
       "\"[{'id': '80034', 'name': '3101 Biochemistry and Cell Biology'}, {'id': '80002', 'name': '31 Biological Sciences'}]\""
      ]
     },
     "execution_count": 95,
     "metadata": {},
     "output_type": "execute_result"
    }
   ],
   "source": [
    "temp_cat['category_for'].values[0]"
   ]
  },
  {
   "cell_type": "code",
   "execution_count": 87,
   "metadata": {},
   "outputs": [
    {
     "data": {
      "text/plain": [
       "[\"[{'id': '80034', 'name': '3101 Biochemistry and Cell Biology'}, {'id': '80002', 'name': '31 Biological Sciences'}]\"]"
      ]
     },
     "execution_count": 87,
     "metadata": {},
     "output_type": "execute_result"
    }
   ],
   "source": [
    "list(temp_cat['category_for'].values)"
   ]
  },
  {
   "cell_type": "code",
   "execution_count": 77,
   "metadata": {},
   "outputs": [
    {
     "ename": "TypeError",
     "evalue": "can only concatenate list (not \"str\") to list",
     "output_type": "error",
     "traceback": [
      "\u001b[1;31m---------------------------------------------------------------------------\u001b[0m",
      "\u001b[1;31mTypeError\u001b[0m                                 Traceback (most recent call last)",
      "\u001b[1;32mg:\\내 드라이브\\[git]\\dimcli\\Dimensions_integration.ipynb Cell 8\u001b[0m in \u001b[0;36m<cell line: 1>\u001b[1;34m()\u001b[0m\n\u001b[1;32m----> <a href='vscode-notebook-cell:/g%3A/%EB%82%B4%20%EB%93%9C%EB%9D%BC%EC%9D%B4%EB%B8%8C/%5Bgit%5D/dimcli/Dimensions_integration.ipynb#X41sZmlsZQ%3D%3D?line=0'>1</a>\u001b[0m \u001b[39msum\u001b[39;49m(temp_cat[\u001b[39m'\u001b[39;49m\u001b[39mcategory_for\u001b[39;49m\u001b[39m'\u001b[39;49m], [])\n",
      "\u001b[1;31mTypeError\u001b[0m: can only concatenate list (not \"str\") to list"
     ]
    }
   ],
   "source": [
    "sum(temp_cat['category_for'], [])"
   ]
  },
  {
   "cell_type": "code",
   "execution_count": 69,
   "metadata": {},
   "outputs": [
    {
     "ename": "KeyError",
     "evalue": "0",
     "output_type": "error",
     "traceback": [
      "\u001b[1;31m---------------------------------------------------------------------------\u001b[0m",
      "\u001b[1;31mKeyError\u001b[0m                                  Traceback (most recent call last)",
      "File \u001b[1;32mc:\\Users\\user\\anaconda3\\lib\\site-packages\\pandas\\core\\indexes\\base.py:3621\u001b[0m, in \u001b[0;36mIndex.get_loc\u001b[1;34m(self, key, method, tolerance)\u001b[0m\n\u001b[0;32m   3620\u001b[0m \u001b[39mtry\u001b[39;00m:\n\u001b[1;32m-> 3621\u001b[0m     \u001b[39mreturn\u001b[39;00m \u001b[39mself\u001b[39;49m\u001b[39m.\u001b[39;49m_engine\u001b[39m.\u001b[39;49mget_loc(casted_key)\n\u001b[0;32m   3622\u001b[0m \u001b[39mexcept\u001b[39;00m \u001b[39mKeyError\u001b[39;00m \u001b[39mas\u001b[39;00m err:\n",
      "File \u001b[1;32mc:\\Users\\user\\anaconda3\\lib\\site-packages\\pandas\\_libs\\index.pyx:136\u001b[0m, in \u001b[0;36mpandas._libs.index.IndexEngine.get_loc\u001b[1;34m()\u001b[0m\n",
      "File \u001b[1;32mc:\\Users\\user\\anaconda3\\lib\\site-packages\\pandas\\_libs\\index.pyx:163\u001b[0m, in \u001b[0;36mpandas._libs.index.IndexEngine.get_loc\u001b[1;34m()\u001b[0m\n",
      "File \u001b[1;32mpandas\\_libs\\hashtable_class_helper.pxi:2131\u001b[0m, in \u001b[0;36mpandas._libs.hashtable.Int64HashTable.get_item\u001b[1;34m()\u001b[0m\n",
      "File \u001b[1;32mpandas\\_libs\\hashtable_class_helper.pxi:2140\u001b[0m, in \u001b[0;36mpandas._libs.hashtable.Int64HashTable.get_item\u001b[1;34m()\u001b[0m\n",
      "\u001b[1;31mKeyError\u001b[0m: 0",
      "\nThe above exception was the direct cause of the following exception:\n",
      "\u001b[1;31mKeyError\u001b[0m                                  Traceback (most recent call last)",
      "\u001b[1;32mg:\\내 드라이브\\[git]\\dimcli\\Dimensions_integration.ipynb Cell 8\u001b[0m in \u001b[0;36m<cell line: 1>\u001b[1;34m()\u001b[0m\n\u001b[1;32m----> <a href='vscode-notebook-cell:/g%3A/%EB%82%B4%20%EB%93%9C%EB%9D%BC%EC%9D%B4%EB%B8%8C/%5Bgit%5D/dimcli/Dimensions_integration.ipynb#X36sZmlsZQ%3D%3D?line=0'>1</a>\u001b[0m pd\u001b[39m.\u001b[39;49mDataFrame\u001b[39m.\u001b[39;49mfrom_records(temp_cat[\u001b[39m'\u001b[39;49m\u001b[39mcategory_for\u001b[39;49m\u001b[39m'\u001b[39;49m])\n",
      "File \u001b[1;32mc:\\Users\\user\\anaconda3\\lib\\site-packages\\pandas\\core\\frame.py:2222\u001b[0m, in \u001b[0;36mDataFrame.from_records\u001b[1;34m(cls, data, index, exclude, columns, coerce_float, nrows)\u001b[0m\n\u001b[0;32m   2220\u001b[0m     arr_columns \u001b[39m=\u001b[39m columns\n\u001b[0;32m   2221\u001b[0m \u001b[39melse\u001b[39;00m:\n\u001b[1;32m-> 2222\u001b[0m     arrays, arr_columns \u001b[39m=\u001b[39m to_arrays(data, columns)\n\u001b[0;32m   2223\u001b[0m     \u001b[39mif\u001b[39;00m coerce_float:\n\u001b[0;32m   2224\u001b[0m         \u001b[39mfor\u001b[39;00m i, arr \u001b[39min\u001b[39;00m \u001b[39menumerate\u001b[39m(arrays):\n",
      "File \u001b[1;32mc:\\Users\\user\\anaconda3\\lib\\site-packages\\pandas\\core\\internals\\construction.py:846\u001b[0m, in \u001b[0;36mto_arrays\u001b[1;34m(data, columns, dtype)\u001b[0m\n\u001b[0;32m    843\u001b[0m             \u001b[39mreturn\u001b[39;00m arrays, columns\n\u001b[0;32m    844\u001b[0m     \u001b[39mreturn\u001b[39;00m [], ensure_index([])\n\u001b[1;32m--> 846\u001b[0m \u001b[39melif\u001b[39;00m \u001b[39misinstance\u001b[39m(data[\u001b[39m0\u001b[39;49m], Categorical):\n\u001b[0;32m    847\u001b[0m     \u001b[39m# GH#38845 deprecate special case\u001b[39;00m\n\u001b[0;32m    848\u001b[0m     warnings\u001b[39m.\u001b[39mwarn(\n\u001b[0;32m    849\u001b[0m         \u001b[39m\"\u001b[39m\u001b[39mThe behavior of DataFrame([categorical, ...]) is deprecated and \u001b[39m\u001b[39m\"\u001b[39m\n\u001b[0;32m    850\u001b[0m         \u001b[39m\"\u001b[39m\u001b[39min a future version will be changed to match the behavior of \u001b[39m\u001b[39m\"\u001b[39m\n\u001b[1;32m   (...)\u001b[0m\n\u001b[0;32m    855\u001b[0m         stacklevel\u001b[39m=\u001b[39mfind_stack_level(),\n\u001b[0;32m    856\u001b[0m     )\n\u001b[0;32m    857\u001b[0m     \u001b[39mif\u001b[39;00m columns \u001b[39mis\u001b[39;00m \u001b[39mNone\u001b[39;00m:\n",
      "File \u001b[1;32mc:\\Users\\user\\anaconda3\\lib\\site-packages\\pandas\\core\\series.py:958\u001b[0m, in \u001b[0;36mSeries.__getitem__\u001b[1;34m(self, key)\u001b[0m\n\u001b[0;32m    955\u001b[0m     \u001b[39mreturn\u001b[39;00m \u001b[39mself\u001b[39m\u001b[39m.\u001b[39m_values[key]\n\u001b[0;32m    957\u001b[0m \u001b[39melif\u001b[39;00m key_is_scalar:\n\u001b[1;32m--> 958\u001b[0m     \u001b[39mreturn\u001b[39;00m \u001b[39mself\u001b[39;49m\u001b[39m.\u001b[39;49m_get_value(key)\n\u001b[0;32m    960\u001b[0m \u001b[39mif\u001b[39;00m is_hashable(key):\n\u001b[0;32m    961\u001b[0m     \u001b[39m# Otherwise index.get_value will raise InvalidIndexError\u001b[39;00m\n\u001b[0;32m    962\u001b[0m     \u001b[39mtry\u001b[39;00m:\n\u001b[0;32m    963\u001b[0m         \u001b[39m# For labels that don't resolve as scalars like tuples and frozensets\u001b[39;00m\n",
      "File \u001b[1;32mc:\\Users\\user\\anaconda3\\lib\\site-packages\\pandas\\core\\series.py:1069\u001b[0m, in \u001b[0;36mSeries._get_value\u001b[1;34m(self, label, takeable)\u001b[0m\n\u001b[0;32m   1066\u001b[0m     \u001b[39mreturn\u001b[39;00m \u001b[39mself\u001b[39m\u001b[39m.\u001b[39m_values[label]\n\u001b[0;32m   1068\u001b[0m \u001b[39m# Similar to Index.get_value, but we do not fall back to positional\u001b[39;00m\n\u001b[1;32m-> 1069\u001b[0m loc \u001b[39m=\u001b[39m \u001b[39mself\u001b[39;49m\u001b[39m.\u001b[39;49mindex\u001b[39m.\u001b[39;49mget_loc(label)\n\u001b[0;32m   1070\u001b[0m \u001b[39mreturn\u001b[39;00m \u001b[39mself\u001b[39m\u001b[39m.\u001b[39mindex\u001b[39m.\u001b[39m_get_values_for_loc(\u001b[39mself\u001b[39m, loc, label)\n",
      "File \u001b[1;32mc:\\Users\\user\\anaconda3\\lib\\site-packages\\pandas\\core\\indexes\\base.py:3623\u001b[0m, in \u001b[0;36mIndex.get_loc\u001b[1;34m(self, key, method, tolerance)\u001b[0m\n\u001b[0;32m   3621\u001b[0m     \u001b[39mreturn\u001b[39;00m \u001b[39mself\u001b[39m\u001b[39m.\u001b[39m_engine\u001b[39m.\u001b[39mget_loc(casted_key)\n\u001b[0;32m   3622\u001b[0m \u001b[39mexcept\u001b[39;00m \u001b[39mKeyError\u001b[39;00m \u001b[39mas\u001b[39;00m err:\n\u001b[1;32m-> 3623\u001b[0m     \u001b[39mraise\u001b[39;00m \u001b[39mKeyError\u001b[39;00m(key) \u001b[39mfrom\u001b[39;00m \u001b[39merr\u001b[39;00m\n\u001b[0;32m   3624\u001b[0m \u001b[39mexcept\u001b[39;00m \u001b[39mTypeError\u001b[39;00m:\n\u001b[0;32m   3625\u001b[0m     \u001b[39m# If we have a listlike key, _check_indexing_error will raise\u001b[39;00m\n\u001b[0;32m   3626\u001b[0m     \u001b[39m#  InvalidIndexError. Otherwise we fall through and re-raise\u001b[39;00m\n\u001b[0;32m   3627\u001b[0m     \u001b[39m#  the TypeError.\u001b[39;00m\n\u001b[0;32m   3628\u001b[0m     \u001b[39mself\u001b[39m\u001b[39m.\u001b[39m_check_indexing_error(key)\n",
      "\u001b[1;31mKeyError\u001b[0m: 0"
     ]
    }
   ],
   "source": [
    "pd.DataFrame.from_records(temp_cat['category_for'])"
   ]
  },
  {
   "cell_type": "code",
   "execution_count": null,
   "metadata": {},
   "outputs": [],
   "source": []
  },
  {
   "cell_type": "code",
   "execution_count": 25,
   "metadata": {},
   "outputs": [
    {
     "data": {
      "text/plain": [
       "2       [{'id': '80034', 'name': '3101 Biochemistry an...\n",
       "6       [{'id': '80065', 'name': '3401 Analytical Chem...\n",
       "8       [{'id': '80049', 'name': '3206 Medical Biotech...\n",
       "9       [{'id': '80003', 'name': '32 Biomedical and Cl...\n",
       "10      [{'id': '80003', 'name': '32 Biomedical and Cl...\n",
       "                              ...                        \n",
       "6343    [{'id': '80068', 'name': '3404 Medicinal and B...\n",
       "6347    [{'id': '80069', 'name': '3405 Organic Chemist...\n",
       "6364    [{'id': '80034', 'name': '3101 Biochemistry an...\n",
       "1       [{'id': '80001', 'name': '30 Agricultural, Vet...\n",
       "2       [{'id': '80002', 'name': '31 Biological Scienc...\n",
       "Name: category_for, Length: 141651, dtype: object"
      ]
     },
     "execution_count": 25,
     "metadata": {},
     "output_type": "execute_result"
    }
   ],
   "source": [
    "pub_data_all['category_for']"
   ]
  },
  {
   "cell_type": "code",
   "execution_count": 22,
   "metadata": {},
   "outputs": [
    {
     "ename": "AttributeError",
     "evalue": "'builtin_function_or_method' object has no attribute 'get_indexer'",
     "output_type": "error",
     "traceback": [
      "\u001b[1;31m---------------------------------------------------------------------------\u001b[0m",
      "\u001b[1;31mAttributeError\u001b[0m                            Traceback (most recent call last)",
      "\u001b[1;32mg:\\내 드라이브\\[git]\\dimcli\\Dimensions_integration.ipynb Cell 6\u001b[0m in \u001b[0;36m<cell line: 2>\u001b[1;34m()\u001b[0m\n\u001b[0;32m      <a href='vscode-notebook-cell:/g%3A/%EB%82%B4%20%EB%93%9C%EB%9D%BC%EC%9D%B4%EB%B8%8C/%5Bgit%5D/dimcli/Dimensions_integration.ipynb#X24sZmlsZQ%3D%3D?line=0'>1</a>\u001b[0m i\u001b[39m=\u001b[39m\u001b[39m0\u001b[39m\n\u001b[1;32m----> <a href='vscode-notebook-cell:/g%3A/%EB%82%B4%20%EB%93%9C%EB%9D%BC%EC%9D%B4%EB%B8%8C/%5Bgit%5D/dimcli/Dimensions_integration.ipynb#X24sZmlsZQ%3D%3D?line=1'>2</a>\u001b[0m pd\u001b[39m.\u001b[39;49mDataFrame\u001b[39m.\u001b[39;49mfrom_records(pub_data_all[\u001b[39m'\u001b[39;49m\u001b[39mcategory_for\u001b[39;49m\u001b[39m'\u001b[39;49m][i])\n",
      "File \u001b[1;32mc:\\Users\\user\\anaconda3\\lib\\site-packages\\pandas\\core\\frame.py:2222\u001b[0m, in \u001b[0;36mDataFrame.from_records\u001b[1;34m(cls, data, index, exclude, columns, coerce_float, nrows)\u001b[0m\n\u001b[0;32m   2220\u001b[0m     arr_columns \u001b[39m=\u001b[39m columns\n\u001b[0;32m   2221\u001b[0m \u001b[39melse\u001b[39;00m:\n\u001b[1;32m-> 2222\u001b[0m     arrays, arr_columns \u001b[39m=\u001b[39m to_arrays(data, columns)\n\u001b[0;32m   2223\u001b[0m     \u001b[39mif\u001b[39;00m coerce_float:\n\u001b[0;32m   2224\u001b[0m         \u001b[39mfor\u001b[39;00m i, arr \u001b[39min\u001b[39;00m \u001b[39menumerate\u001b[39m(arrays):\n",
      "File \u001b[1;32mc:\\Users\\user\\anaconda3\\lib\\site-packages\\pandas\\core\\internals\\construction.py:877\u001b[0m, in \u001b[0;36mto_arrays\u001b[1;34m(data, columns, dtype)\u001b[0m\n\u001b[0;32m    875\u001b[0m     arr, columns \u001b[39m=\u001b[39m _list_of_dict_to_arrays(data, columns)\n\u001b[0;32m    876\u001b[0m \u001b[39melif\u001b[39;00m \u001b[39misinstance\u001b[39m(data[\u001b[39m0\u001b[39m], ABCSeries):\n\u001b[1;32m--> 877\u001b[0m     arr, columns \u001b[39m=\u001b[39m _list_of_series_to_arrays(data, columns)\n\u001b[0;32m    878\u001b[0m \u001b[39melse\u001b[39;00m:\n\u001b[0;32m    879\u001b[0m     \u001b[39m# last ditch effort\u001b[39;00m\n\u001b[0;32m    880\u001b[0m     data \u001b[39m=\u001b[39m [\u001b[39mtuple\u001b[39m(x) \u001b[39mfor\u001b[39;00m x \u001b[39min\u001b[39;00m data]\n",
      "File \u001b[1;32mc:\\Users\\user\\anaconda3\\lib\\site-packages\\pandas\\core\\internals\\construction.py:920\u001b[0m, in \u001b[0;36m_list_of_series_to_arrays\u001b[1;34m(data, columns)\u001b[0m\n\u001b[0;32m    918\u001b[0m     indexer \u001b[39m=\u001b[39m indexer_cache[\u001b[39mid\u001b[39m(index)]\n\u001b[0;32m    919\u001b[0m \u001b[39melse\u001b[39;00m:\n\u001b[1;32m--> 920\u001b[0m     indexer \u001b[39m=\u001b[39m indexer_cache[\u001b[39mid\u001b[39m(index)] \u001b[39m=\u001b[39m index\u001b[39m.\u001b[39;49mget_indexer(columns)\n\u001b[0;32m    922\u001b[0m values \u001b[39m=\u001b[39m extract_array(s, extract_numpy\u001b[39m=\u001b[39m\u001b[39mTrue\u001b[39;00m)\n\u001b[0;32m    923\u001b[0m aligned_values\u001b[39m.\u001b[39mappend(algorithms\u001b[39m.\u001b[39mtake_nd(values, indexer))\n",
      "\u001b[1;31mAttributeError\u001b[0m: 'builtin_function_or_method' object has no attribute 'get_indexer'"
     ]
    }
   ],
   "source": [
    "i=0\n",
    "pd.DataFrame.from_records(pub_data_all['category_for'][i])"
   ]
  },
  {
   "cell_type": "code",
   "execution_count": 21,
   "metadata": {},
   "outputs": [
    {
     "data": {
      "text/plain": [
       "2       [{'affiliations': [{'city': 'Stanford', 'city_...\n",
       "6       [{'affiliations': [{'city': 'New Orleans', 'ci...\n",
       "8       [{'affiliations': [{'city': 'Minneapolis', 'ci...\n",
       "9       [{'affiliations': [{'city': 'Durham', 'city_id...\n",
       "10      [{'affiliations': [{'city': 'North Laurel', 'c...\n",
       "                              ...                        \n",
       "6343    [{'affiliations': [{'city': 'Chicago', 'city_i...\n",
       "6347    [{'affiliations': [{'city': 'Coral Gables', 'c...\n",
       "6364    [{'affiliations': [{'city': 'Gainesville', 'ci...\n",
       "1       [{'affiliations': [{'city': 'Riyadh', 'city_id...\n",
       "2       [{'affiliations': [{'city': 'Hangzhou', 'city_...\n",
       "Name: authors, Length: 141651, dtype: object"
      ]
     },
     "execution_count": 21,
     "metadata": {},
     "output_type": "execute_result"
    }
   ],
   "source": [
    "pub_data_all.authors"
   ]
  },
  {
   "cell_type": "code",
   "execution_count": 19,
   "metadata": {},
   "outputs": [
    {
     "data": {
      "text/html": [
       "<div>\n",
       "<style scoped>\n",
       "    .dataframe tbody tr th:only-of-type {\n",
       "        vertical-align: middle;\n",
       "    }\n",
       "\n",
       "    .dataframe tbody tr th {\n",
       "        vertical-align: top;\n",
       "    }\n",
       "\n",
       "    .dataframe thead th {\n",
       "        text-align: right;\n",
       "    }\n",
       "</style>\n",
       "<table border=\"1\" class=\"dataframe\">\n",
       "  <thead>\n",
       "    <tr style=\"text-align: right;\">\n",
       "      <th></th>\n",
       "      <th>pub_id</th>\n",
       "      <th>title</th>\n",
       "      <th>category_for</th>\n",
       "      <th>issue</th>\n",
       "      <th>type</th>\n",
       "      <th>volume</th>\n",
       "      <th>year</th>\n",
       "      <th>journal.id</th>\n",
       "      <th>journal.title</th>\n",
       "      <th>authors</th>\n",
       "      <th>supporting_grant_ids</th>\n",
       "    </tr>\n",
       "  </thead>\n",
       "  <tbody>\n",
       "    <tr>\n",
       "      <th>2</th>\n",
       "      <td>pub.1037168643</td>\n",
       "      <td>Viral dsRNA Inhibitors Prevent Self-associatio...</td>\n",
       "      <td>[{'id': '80034', 'name': '3101 Biochemistry an...</td>\n",
       "      <td>1</td>\n",
       "      <td>article</td>\n",
       "      <td>372</td>\n",
       "      <td>2007.0</td>\n",
       "      <td>jour.1077105</td>\n",
       "      <td>Journal of Molecular Biology</td>\n",
       "      <td>[{'affiliations': [{'city': 'Stanford', 'city_...</td>\n",
       "      <td>['grant.2519270', 'grant.2633999', 'grant.2683...</td>\n",
       "    </tr>\n",
       "    <tr>\n",
       "      <th>6</th>\n",
       "      <td>pub.1021835887</td>\n",
       "      <td>Alu-linked hairpins efficiently mediate RNA in...</td>\n",
       "      <td>[{'id': '80065', 'name': '3401 Analytical Chem...</td>\n",
       "      <td>1</td>\n",
       "      <td>article</td>\n",
       "      <td>349</td>\n",
       "      <td>2005.0</td>\n",
       "      <td>jour.1017038</td>\n",
       "      <td>Analytical Biochemistry</td>\n",
       "      <td>[{'affiliations': [{'city': 'New Orleans', 'ci...</td>\n",
       "      <td>['grant.2513434', 'grant.2992333']</td>\n",
       "    </tr>\n",
       "    <tr>\n",
       "      <th>8</th>\n",
       "      <td>pub.1041354541</td>\n",
       "      <td>Efficient Transfection of Embryonic and Adult ...</td>\n",
       "      <td>[{'id': '80049', 'name': '3206 Medical Biotech...</td>\n",
       "      <td>4</td>\n",
       "      <td>article</td>\n",
       "      <td>22</td>\n",
       "      <td>2004.0</td>\n",
       "      <td>jour.1094139</td>\n",
       "      <td>Stem Cells</td>\n",
       "      <td>[{'affiliations': [{'city': 'Minneapolis', 'ci...</td>\n",
       "      <td>['grant.2538127', 'grant.2613535']</td>\n",
       "    </tr>\n",
       "    <tr>\n",
       "      <th>9</th>\n",
       "      <td>pub.1029989364</td>\n",
       "      <td>Phase 1 trial study of 131I-labeled chimeric 8...</td>\n",
       "      <td>[{'id': '80003', 'name': '32 Biomedical and Cl...</td>\n",
       "      <td>3</td>\n",
       "      <td>article</td>\n",
       "      <td>104</td>\n",
       "      <td>2004.0</td>\n",
       "      <td>jour.1085025</td>\n",
       "      <td>Blood</td>\n",
       "      <td>[{'affiliations': [{'city': 'Durham', 'city_id...</td>\n",
       "      <td>['grant.2634129', 'grant.2626539', 'grant.2673...</td>\n",
       "    </tr>\n",
       "    <tr>\n",
       "      <th>10</th>\n",
       "      <td>pub.1043053351</td>\n",
       "      <td>Aqueous Flow through the Iris–Lens Channel: Es...</td>\n",
       "      <td>[{'id': '80003', 'name': '32 Biomedical and Cl...</td>\n",
       "      <td>2</td>\n",
       "      <td>article</td>\n",
       "      <td>13</td>\n",
       "      <td>2004.0</td>\n",
       "      <td>jour.1103190</td>\n",
       "      <td>Journal of Glaucoma</td>\n",
       "      <td>[{'affiliations': [{'city': 'North Laurel', 'c...</td>\n",
       "      <td>['grant.2504535', 'grant.2667633', 'grant.2429...</td>\n",
       "    </tr>\n",
       "  </tbody>\n",
       "</table>\n",
       "</div>"
      ],
      "text/plain": [
       "            pub_id                                              title  \\\n",
       "2   pub.1037168643  Viral dsRNA Inhibitors Prevent Self-associatio...   \n",
       "6   pub.1021835887  Alu-linked hairpins efficiently mediate RNA in...   \n",
       "8   pub.1041354541  Efficient Transfection of Embryonic and Adult ...   \n",
       "9   pub.1029989364  Phase 1 trial study of 131I-labeled chimeric 8...   \n",
       "10  pub.1043053351  Aqueous Flow through the Iris–Lens Channel: Es...   \n",
       "\n",
       "                                         category_for issue     type volume  \\\n",
       "2   [{'id': '80034', 'name': '3101 Biochemistry an...     1  article    372   \n",
       "6   [{'id': '80065', 'name': '3401 Analytical Chem...     1  article    349   \n",
       "8   [{'id': '80049', 'name': '3206 Medical Biotech...     4  article     22   \n",
       "9   [{'id': '80003', 'name': '32 Biomedical and Cl...     3  article    104   \n",
       "10  [{'id': '80003', 'name': '32 Biomedical and Cl...     2  article     13   \n",
       "\n",
       "      year    journal.id                 journal.title  \\\n",
       "2   2007.0  jour.1077105  Journal of Molecular Biology   \n",
       "6   2005.0  jour.1017038       Analytical Biochemistry   \n",
       "8   2004.0  jour.1094139                    Stem Cells   \n",
       "9   2004.0  jour.1085025                         Blood   \n",
       "10  2004.0  jour.1103190           Journal of Glaucoma   \n",
       "\n",
       "                                              authors  \\\n",
       "2   [{'affiliations': [{'city': 'Stanford', 'city_...   \n",
       "6   [{'affiliations': [{'city': 'New Orleans', 'ci...   \n",
       "8   [{'affiliations': [{'city': 'Minneapolis', 'ci...   \n",
       "9   [{'affiliations': [{'city': 'Durham', 'city_id...   \n",
       "10  [{'affiliations': [{'city': 'North Laurel', 'c...   \n",
       "\n",
       "                                 supporting_grant_ids  \n",
       "2   ['grant.2519270', 'grant.2633999', 'grant.2683...  \n",
       "6                  ['grant.2513434', 'grant.2992333']  \n",
       "8                  ['grant.2538127', 'grant.2613535']  \n",
       "9   ['grant.2634129', 'grant.2626539', 'grant.2673...  \n",
       "10  ['grant.2504535', 'grant.2667633', 'grant.2429...  "
      ]
     },
     "execution_count": 19,
     "metadata": {},
     "output_type": "execute_result"
    }
   ],
   "source": [
    "pub_data_all.head()"
   ]
  },
  {
   "cell_type": "code",
   "execution_count": 10,
   "metadata": {},
   "outputs": [],
   "source": [
    "### Load pub_data_df data set to merge it to pub_data_all\n",
    "import re\n",
    "\n",
    "for office in offices:\n",
    "    # Filter list of files \"pub_data_df\"\n",
    "    file_list = os.listdir(dir+'publication/')\n",
    "    r = re.compile(\".*pub_data_df\"+\".*\"+office+\".*csv\")\n",
    "    filtered_list = list(filter(r.match, file_list))\n",
    "    filtered_list\n",
    "\n",
    "    pub_data_all = pd.DataFrame()\n",
    "    for i in range(len(filtered_list)):\n",
    "        temp_df = pd.read_csv(dir+'publication/'+filtered_list[i])\n",
    "        temp_df.dropna(inplace=True)\n",
    "        pub_data_all = pd.concat([pub_data_all, temp_df], axis=0)\n",
    "\n",
    "    pub_data_all.to_csv(dir+\"publication/pub_data_all_\"+office+\".csv\", index=False)\n"
   ]
  },
  {
   "cell_type": "code",
   "execution_count": null,
   "metadata": {},
   "outputs": [],
   "source": [
    "import re\n",
    "\n",
    "office='EP'\n"
   ]
  },
  {
   "cell_type": "code",
   "execution_count": null,
   "metadata": {},
   "outputs": [],
   "source": []
  },
  {
   "cell_type": "code",
   "execution_count": null,
   "metadata": {},
   "outputs": [],
   "source": []
  },
  {
   "cell_type": "code",
   "execution_count": null,
   "metadata": {},
   "outputs": [],
   "source": []
  },
  {
   "cell_type": "code",
   "execution_count": null,
   "metadata": {},
   "outputs": [],
   "source": []
  }
 ],
 "metadata": {
  "kernelspec": {
   "display_name": "base",
   "language": "python",
   "name": "python3"
  },
  "language_info": {
   "codemirror_mode": {
    "name": "ipython",
    "version": 3
   },
   "file_extension": ".py",
   "mimetype": "text/x-python",
   "name": "python",
   "nbconvert_exporter": "python",
   "pygments_lexer": "ipython3",
   "version": "3.9.12"
  },
  "orig_nbformat": 4,
  "vscode": {
   "interpreter": {
    "hash": "a077222d77dfe082b8f1dd562ad70e458ac2ab76993a0b248ab0476e32e9e8dd"
   }
  }
 },
 "nbformat": 4,
 "nbformat_minor": 2
}
