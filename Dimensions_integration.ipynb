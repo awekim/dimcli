{
 "cells": [
  {
   "cell_type": "code",
   "execution_count": null,
   "metadata": {},
   "outputs": [],
   "source": [
    "#######################################################################\n",
    "##  Made by: Dr. Keungoui Kim\n",
    "##  Title: Merge all files from Dimensions\n",
    "##  goal : \n",
    "##  Data set:  \n",
    "##  Time Span:\n",
    "##  Variables\n",
    "##      Input: \n",
    "##      Output: \n",
    "##  Time-stamp: #  \"Sun Jan 26 01:47:34 2020\":  edited by awe kim ; code\n",
    "##  Notice :\n",
    "#######################################################################"
   ]
  },
  {
   "cell_type": "code",
   "execution_count": 1,
   "metadata": {},
   "outputs": [],
   "source": [
    "### Library\n",
    "import pandas as pd\n",
    "import numpy as np\n",
    "import math\n",
    "\n",
    "### Directory Setting for Export\n",
    "#dir = \"E:/Google Drive (awekim@handong.edu)/[Research]/00_Dimensions/Dimension_files/\" # Home\n",
    "dir = \"D:/Google Drive(awekim@handong.edu)/[Research]/00_Dimensions/Dimension_files/\" # HGU\n",
    "\n",
    "years = ['2011','2012','2013','2014','2015','2016','2017','2018','2019','2020','2021','2022'] #, '2000','2001','2002','2003','2004','2005','2006','2007','2008','2009', '2010'\n",
    "offices = ['EP'] # 'WO', 'US', 'EP'"
   ]
  },
  {
   "cell_type": "code",
   "execution_count": null,
   "metadata": {},
   "outputs": [],
   "source": [
    "# Integrate file list\n",
    "\n",
    "pat_funders_df = pd.read_csv(dir+\"patent/pat_funders_df_\"+year+\"_\"+office+\".csv\")\n",
    "pat_cpc_df = pd.read_csv(dir+\"patent/pat_cpc_df_\"+year+\"_\"+office+\".csv\")\n",
    "pub_category_df = pd.read_csv(dir+\"publication/pub_category_df_\"+year+\"_\"+office+\"_\"+str(i)+\".csv\")\n",
    "pub_authors_df = pd.read_csv(dir+\"publication/pub_authors_df_\"+year+\"_\"+office+\"_\"+str(i)+\".csv\")\n",
    "pub_affiliations_df = pd.read_csv(dir+\"publication/pub_affiliations_df_\"+year+\"_\"+office+\"_\"+str(i)+\".csv\")\n",
    "pub_df = pd.read_csv(dir+\"publication/pub_data_df_\"+year+\"_\"+office+\"_\"+str(i)+\".csv\")\n",
    "\n",
    "pub_grant_all = pd.read_csv(dir+\"publication/pub_grant_list_\"+office+\".csv\")\n",
    "pub_grant_df = pd.read_csv(dir+\"publication/pub_grant_df_\"+office+\".csv\")\n",
    "pub_funders_df = pd.read_csv(dir+\"publication/pub_funders_df_\"+office+\".csv\")"
   ]
  },
  {
   "cell_type": "code",
   "execution_count": 8,
   "metadata": {},
   "outputs": [],
   "source": [
    "import re\n",
    "\n",
    "for office in offices:\n",
    "    # Filter list of files \"pat_data_df\"\n",
    "    file_list = os.listdir(dir+'publication/')\n",
    "    r = re.compile(\".*pub_category_df\"+\".*\"+office+\".*csv\")\n",
    "    filtered_list = list(filter(r.match, file_list))\n",
    "    filtered_list"
   ]
  },
  {
   "cell_type": "code",
   "execution_count": 9,
   "metadata": {},
   "outputs": [
    {
     "data": {
      "text/plain": [
       "['pub_category_df_2000_EP_1.csv',\n",
       " 'pub_category_df_2001_EP_1.csv',\n",
       " 'pub_category_df_2002_EP_1.csv',\n",
       " 'pub_category_df_2003_EP_1.csv',\n",
       " 'pub_category_df_2004_EP_1.csv',\n",
       " 'pub_category_df_2005_EP_1.csv',\n",
       " 'pub_category_df_2006_EP_1.csv',\n",
       " 'pub_category_df_2007_EP_1.csv',\n",
       " 'pub_category_df_2008_EP_1.csv',\n",
       " 'pub_category_df_2009_EP_1.csv',\n",
       " 'pub_category_df_2010_EP_1.csv',\n",
       " 'pub_category_df_2011_EP_1.csv',\n",
       " 'pub_category_df_2012_EP_1.csv',\n",
       " 'pub_category_df_2013_EP_1.csv',\n",
       " 'pub_category_df_2014_EP_1.csv',\n",
       " 'pub_category_df_2015_EP_1.csv',\n",
       " 'pub_category_df_2016_EP_1.csv',\n",
       " 'pub_category_df_2017_EP_1.csv',\n",
       " 'pub_category_df_2018_EP_1.csv',\n",
       " 'pub_category_df_2019_EP_1.csv',\n",
       " 'pub_category_df_2020_EP_1.csv',\n",
       " 'pub_category_df_2021_EP_1.csv',\n",
       " 'pub_category_df_2022_EP_1.csv']"
      ]
     },
     "execution_count": 9,
     "metadata": {},
     "output_type": "execute_result"
    }
   ],
   "source": [
    "filtered_list"
   ]
  },
  {
   "cell_type": "code",
   "execution_count": null,
   "metadata": {},
   "outputs": [],
   "source": [
    "### Load pat_data_df data set to merge it to pat_data_all\n",
    "import re\n",
    "\n",
    "for office in offices:\n",
    "    # Filter list of files \"pat_data_df\"\n",
    "    file_list = os.listdir(dir+'patent/')\n",
    "    r = re.compile(\".*pat_data_df\"+\".*\"+office+\".*csv\")\n",
    "    filtered_list = list(filter(r.match, file_list))\n",
    "    filtered_list\n",
    "\n",
    "    pub_data_all = pd.DataFrame()\n",
    "    for i in range(len(filtered_list)):\n",
    "        temp_df = pd.read_csv(dir+'patent/'+filtered_list[i])\n",
    "        temp_df.dropna(inplace=True)\n",
    "        pub_data_all = pd.concat([pub_data_all, temp_df], axis=0)\n",
    "\n",
    "    # pub_data_all.rename(columns={'id':'pub_id'}, inplace=True)\n",
    "    pub_data_all.to_csv(dir+\"patent/pat_data_all_\"+office+\".csv\", index=False)\n"
   ]
  },
  {
   "cell_type": "code",
   "execution_count": 14,
   "metadata": {},
   "outputs": [
    {
     "name": "stdout",
     "output_type": "stream",
     "text": [
      "(141651, 11)\n",
      "113360\n"
     ]
    }
   ],
   "source": [
    "print(pub_data_all.shape)\n",
    "print(pub_data_all.id.nunique())"
   ]
  },
  {
   "cell_type": "code",
   "execution_count": null,
   "metadata": {},
   "outputs": [],
   "source": [
    "pub_category_all = pd.DataFrame()\n",
    "for i in range(pub_data_all.shape[0]):\n",
    "    temp_cat = pub_data_all.iloc[[i]]\n",
    "\n",
    "    for j in range(len(temp_cat)):\n",
    "        temp_data = pd.DataFrame.from_records(temp_cat[0][j])\n",
    "        temp_data['id'] = pub_data_all['pub_id'][i]\n",
    "        pub_category_all = pd.concat([pub_category_all, temp_data], axis=0)\n",
    "\n"
   ]
  },
  {
   "cell_type": "code",
   "execution_count": 63,
   "metadata": {},
   "outputs": [
    {
     "data": {
      "text/html": [
       "<div>\n",
       "<style scoped>\n",
       "    .dataframe tbody tr th:only-of-type {\n",
       "        vertical-align: middle;\n",
       "    }\n",
       "\n",
       "    .dataframe tbody tr th {\n",
       "        vertical-align: top;\n",
       "    }\n",
       "\n",
       "    .dataframe thead th {\n",
       "        text-align: right;\n",
       "    }\n",
       "</style>\n",
       "<table border=\"1\" class=\"dataframe\">\n",
       "  <thead>\n",
       "    <tr style=\"text-align: right;\">\n",
       "      <th></th>\n",
       "      <th>category_for</th>\n",
       "    </tr>\n",
       "  </thead>\n",
       "  <tbody>\n",
       "    <tr>\n",
       "      <th>2</th>\n",
       "      <td>[{'id': '80034', 'name': '3101 Biochemistry an...</td>\n",
       "    </tr>\n",
       "  </tbody>\n",
       "</table>\n",
       "</div>"
      ],
      "text/plain": [
       "                                        category_for\n",
       "2  [{'id': '80034', 'name': '3101 Biochemistry an..."
      ]
     },
     "execution_count": 63,
     "metadata": {},
     "output_type": "execute_result"
    }
   ],
   "source": [
    "i=0\n",
    "temp_cat = pub_data_all.iloc[[i]]\n",
    "pd.DataFrame(temp_cat.category_for)"
   ]
  },
  {
   "cell_type": "code",
   "execution_count": 90,
   "metadata": {},
   "outputs": [
    {
     "data": {
      "text/plain": [
       "[{'id': '80034', 'name': '3101 Biochemistry and Cell Biology'}, {'id': '80002', 'name': '31 Biological Sciences'}]    1\n",
       "Name: category_for, dtype: int64"
      ]
     },
     "execution_count": 90,
     "metadata": {},
     "output_type": "execute_result"
    }
   ],
   "source": [
    "temp_cat['category_for'].value_counts()"
   ]
  },
  {
   "cell_type": "code",
   "execution_count": 95,
   "metadata": {},
   "outputs": [
    {
     "data": {
      "text/plain": [
       "\"[{'id': '80034', 'name': '3101 Biochemistry and Cell Biology'}, {'id': '80002', 'name': '31 Biological Sciences'}]\""
      ]
     },
     "execution_count": 95,
     "metadata": {},
     "output_type": "execute_result"
    }
   ],
   "source": [
    "temp_cat['category_for'].values[0]"
   ]
  },
  {
   "cell_type": "code",
   "execution_count": 87,
   "metadata": {},
   "outputs": [
    {
     "data": {
      "text/plain": [
       "[\"[{'id': '80034', 'name': '3101 Biochemistry and Cell Biology'}, {'id': '80002', 'name': '31 Biological Sciences'}]\"]"
      ]
     },
     "execution_count": 87,
     "metadata": {},
     "output_type": "execute_result"
    }
   ],
   "source": [
    "list(temp_cat['category_for'].values)"
   ]
  },
  {
   "cell_type": "code",
   "execution_count": 25,
   "metadata": {},
   "outputs": [
    {
     "data": {
      "text/plain": [
       "2       [{'id': '80034', 'name': '3101 Biochemistry an...\n",
       "6       [{'id': '80065', 'name': '3401 Analytical Chem...\n",
       "8       [{'id': '80049', 'name': '3206 Medical Biotech...\n",
       "9       [{'id': '80003', 'name': '32 Biomedical and Cl...\n",
       "10      [{'id': '80003', 'name': '32 Biomedical and Cl...\n",
       "                              ...                        \n",
       "6343    [{'id': '80068', 'name': '3404 Medicinal and B...\n",
       "6347    [{'id': '80069', 'name': '3405 Organic Chemist...\n",
       "6364    [{'id': '80034', 'name': '3101 Biochemistry an...\n",
       "1       [{'id': '80001', 'name': '30 Agricultural, Vet...\n",
       "2       [{'id': '80002', 'name': '31 Biological Scienc...\n",
       "Name: category_for, Length: 141651, dtype: object"
      ]
     },
     "execution_count": 25,
     "metadata": {},
     "output_type": "execute_result"
    }
   ],
   "source": [
    "pub_data_all['category_for']"
   ]
  },
  {
   "cell_type": "code",
   "execution_count": 21,
   "metadata": {},
   "outputs": [
    {
     "data": {
      "text/plain": [
       "2       [{'affiliations': [{'city': 'Stanford', 'city_...\n",
       "6       [{'affiliations': [{'city': 'New Orleans', 'ci...\n",
       "8       [{'affiliations': [{'city': 'Minneapolis', 'ci...\n",
       "9       [{'affiliations': [{'city': 'Durham', 'city_id...\n",
       "10      [{'affiliations': [{'city': 'North Laurel', 'c...\n",
       "                              ...                        \n",
       "6343    [{'affiliations': [{'city': 'Chicago', 'city_i...\n",
       "6347    [{'affiliations': [{'city': 'Coral Gables', 'c...\n",
       "6364    [{'affiliations': [{'city': 'Gainesville', 'ci...\n",
       "1       [{'affiliations': [{'city': 'Riyadh', 'city_id...\n",
       "2       [{'affiliations': [{'city': 'Hangzhou', 'city_...\n",
       "Name: authors, Length: 141651, dtype: object"
      ]
     },
     "execution_count": 21,
     "metadata": {},
     "output_type": "execute_result"
    }
   ],
   "source": [
    "pub_data_all.authors"
   ]
  },
  {
   "cell_type": "code",
   "execution_count": 19,
   "metadata": {},
   "outputs": [
    {
     "data": {
      "text/html": [
       "<div>\n",
       "<style scoped>\n",
       "    .dataframe tbody tr th:only-of-type {\n",
       "        vertical-align: middle;\n",
       "    }\n",
       "\n",
       "    .dataframe tbody tr th {\n",
       "        vertical-align: top;\n",
       "    }\n",
       "\n",
       "    .dataframe thead th {\n",
       "        text-align: right;\n",
       "    }\n",
       "</style>\n",
       "<table border=\"1\" class=\"dataframe\">\n",
       "  <thead>\n",
       "    <tr style=\"text-align: right;\">\n",
       "      <th></th>\n",
       "      <th>pub_id</th>\n",
       "      <th>title</th>\n",
       "      <th>category_for</th>\n",
       "      <th>issue</th>\n",
       "      <th>type</th>\n",
       "      <th>volume</th>\n",
       "      <th>year</th>\n",
       "      <th>journal.id</th>\n",
       "      <th>journal.title</th>\n",
       "      <th>authors</th>\n",
       "      <th>supporting_grant_ids</th>\n",
       "    </tr>\n",
       "  </thead>\n",
       "  <tbody>\n",
       "    <tr>\n",
       "      <th>2</th>\n",
       "      <td>pub.1037168643</td>\n",
       "      <td>Viral dsRNA Inhibitors Prevent Self-associatio...</td>\n",
       "      <td>[{'id': '80034', 'name': '3101 Biochemistry an...</td>\n",
       "      <td>1</td>\n",
       "      <td>article</td>\n",
       "      <td>372</td>\n",
       "      <td>2007.0</td>\n",
       "      <td>jour.1077105</td>\n",
       "      <td>Journal of Molecular Biology</td>\n",
       "      <td>[{'affiliations': [{'city': 'Stanford', 'city_...</td>\n",
       "      <td>['grant.2519270', 'grant.2633999', 'grant.2683...</td>\n",
       "    </tr>\n",
       "    <tr>\n",
       "      <th>6</th>\n",
       "      <td>pub.1021835887</td>\n",
       "      <td>Alu-linked hairpins efficiently mediate RNA in...</td>\n",
       "      <td>[{'id': '80065', 'name': '3401 Analytical Chem...</td>\n",
       "      <td>1</td>\n",
       "      <td>article</td>\n",
       "      <td>349</td>\n",
       "      <td>2005.0</td>\n",
       "      <td>jour.1017038</td>\n",
       "      <td>Analytical Biochemistry</td>\n",
       "      <td>[{'affiliations': [{'city': 'New Orleans', 'ci...</td>\n",
       "      <td>['grant.2513434', 'grant.2992333']</td>\n",
       "    </tr>\n",
       "    <tr>\n",
       "      <th>8</th>\n",
       "      <td>pub.1041354541</td>\n",
       "      <td>Efficient Transfection of Embryonic and Adult ...</td>\n",
       "      <td>[{'id': '80049', 'name': '3206 Medical Biotech...</td>\n",
       "      <td>4</td>\n",
       "      <td>article</td>\n",
       "      <td>22</td>\n",
       "      <td>2004.0</td>\n",
       "      <td>jour.1094139</td>\n",
       "      <td>Stem Cells</td>\n",
       "      <td>[{'affiliations': [{'city': 'Minneapolis', 'ci...</td>\n",
       "      <td>['grant.2538127', 'grant.2613535']</td>\n",
       "    </tr>\n",
       "    <tr>\n",
       "      <th>9</th>\n",
       "      <td>pub.1029989364</td>\n",
       "      <td>Phase 1 trial study of 131I-labeled chimeric 8...</td>\n",
       "      <td>[{'id': '80003', 'name': '32 Biomedical and Cl...</td>\n",
       "      <td>3</td>\n",
       "      <td>article</td>\n",
       "      <td>104</td>\n",
       "      <td>2004.0</td>\n",
       "      <td>jour.1085025</td>\n",
       "      <td>Blood</td>\n",
       "      <td>[{'affiliations': [{'city': 'Durham', 'city_id...</td>\n",
       "      <td>['grant.2634129', 'grant.2626539', 'grant.2673...</td>\n",
       "    </tr>\n",
       "    <tr>\n",
       "      <th>10</th>\n",
       "      <td>pub.1043053351</td>\n",
       "      <td>Aqueous Flow through the Iris–Lens Channel: Es...</td>\n",
       "      <td>[{'id': '80003', 'name': '32 Biomedical and Cl...</td>\n",
       "      <td>2</td>\n",
       "      <td>article</td>\n",
       "      <td>13</td>\n",
       "      <td>2004.0</td>\n",
       "      <td>jour.1103190</td>\n",
       "      <td>Journal of Glaucoma</td>\n",
       "      <td>[{'affiliations': [{'city': 'North Laurel', 'c...</td>\n",
       "      <td>['grant.2504535', 'grant.2667633', 'grant.2429...</td>\n",
       "    </tr>\n",
       "  </tbody>\n",
       "</table>\n",
       "</div>"
      ],
      "text/plain": [
       "            pub_id                                              title  \\\n",
       "2   pub.1037168643  Viral dsRNA Inhibitors Prevent Self-associatio...   \n",
       "6   pub.1021835887  Alu-linked hairpins efficiently mediate RNA in...   \n",
       "8   pub.1041354541  Efficient Transfection of Embryonic and Adult ...   \n",
       "9   pub.1029989364  Phase 1 trial study of 131I-labeled chimeric 8...   \n",
       "10  pub.1043053351  Aqueous Flow through the Iris–Lens Channel: Es...   \n",
       "\n",
       "                                         category_for issue     type volume  \\\n",
       "2   [{'id': '80034', 'name': '3101 Biochemistry an...     1  article    372   \n",
       "6   [{'id': '80065', 'name': '3401 Analytical Chem...     1  article    349   \n",
       "8   [{'id': '80049', 'name': '3206 Medical Biotech...     4  article     22   \n",
       "9   [{'id': '80003', 'name': '32 Biomedical and Cl...     3  article    104   \n",
       "10  [{'id': '80003', 'name': '32 Biomedical and Cl...     2  article     13   \n",
       "\n",
       "      year    journal.id                 journal.title  \\\n",
       "2   2007.0  jour.1077105  Journal of Molecular Biology   \n",
       "6   2005.0  jour.1017038       Analytical Biochemistry   \n",
       "8   2004.0  jour.1094139                    Stem Cells   \n",
       "9   2004.0  jour.1085025                         Blood   \n",
       "10  2004.0  jour.1103190           Journal of Glaucoma   \n",
       "\n",
       "                                              authors  \\\n",
       "2   [{'affiliations': [{'city': 'Stanford', 'city_...   \n",
       "6   [{'affiliations': [{'city': 'New Orleans', 'ci...   \n",
       "8   [{'affiliations': [{'city': 'Minneapolis', 'ci...   \n",
       "9   [{'affiliations': [{'city': 'Durham', 'city_id...   \n",
       "10  [{'affiliations': [{'city': 'North Laurel', 'c...   \n",
       "\n",
       "                                 supporting_grant_ids  \n",
       "2   ['grant.2519270', 'grant.2633999', 'grant.2683...  \n",
       "6                  ['grant.2513434', 'grant.2992333']  \n",
       "8                  ['grant.2538127', 'grant.2613535']  \n",
       "9   ['grant.2634129', 'grant.2626539', 'grant.2673...  \n",
       "10  ['grant.2504535', 'grant.2667633', 'grant.2429...  "
      ]
     },
     "execution_count": 19,
     "metadata": {},
     "output_type": "execute_result"
    }
   ],
   "source": [
    "pub_data_all.head()"
   ]
  }
 ],
 "metadata": {
  "kernelspec": {
   "display_name": "base",
   "language": "python",
   "name": "python3"
  },
  "language_info": {
   "codemirror_mode": {
    "name": "ipython",
    "version": 3
   },
   "file_extension": ".py",
   "mimetype": "text/x-python",
   "name": "python",
   "nbconvert_exporter": "python",
   "pygments_lexer": "ipython3",
   "version": "3.9.12"
  },
  "orig_nbformat": 4,
  "vscode": {
   "interpreter": {
    "hash": "a077222d77dfe082b8f1dd562ad70e458ac2ab76993a0b248ab0476e32e9e8dd"
   }
  }
 },
 "nbformat": 4,
 "nbformat_minor": 2
}
